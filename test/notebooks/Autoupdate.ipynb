{
 "cells": [
  {
   "cell_type": "code",
   "execution_count": 1,
   "id": "a537f51e-cd6f-406f-9bb7-59f80133e622",
   "metadata": {},
   "outputs": [],
   "source": [
    "from pprint import pprint\n",
    "import time\n",
    "\n",
    "import numpy as np\n",
    "from matplotlib import pyplot as plt\n",
    "import h5py\n",
    "\n",
    "\n",
    "from qcodes import Instrument, Station, find_or_create_instrument\n",
    "from plottr.data import datadict_storage as dds, datadict as dd"
   ]
  },
  {
   "cell_type": "code",
   "execution_count": 2,
   "id": "dca73b65-524d-4fe0-8f9f-ac662d287c96",
   "metadata": {},
   "outputs": [],
   "source": [
    "from instrumentserver.client import Client as InstrumentClient\n",
    "cli = InstrumentClient() # connect to default host (localhost) and default port (5555)"
   ]
  },
  {
   "cell_type": "code",
   "execution_count": 3,
   "id": "d0b1f31c-5f2e-4fc5-aefb-5d58008c269c",
   "metadata": {},
   "outputs": [
    {
     "data": {
      "text/plain": [
       "40"
      ]
     },
     "execution_count": 3,
     "metadata": {},
     "output_type": "execute_result"
    }
   ],
   "source": [
    "params = cli.get_instrument('params') # 'params' is the name the startup script gave the instrument\n",
    "\n",
    "# simply output the value of the pi pulse length:\n",
    "params.qubit.pipulse.len()"
   ]
  },
  {
   "cell_type": "code",
   "execution_count": 4,
   "id": "aaa68cb1-fceb-4438-adfb-1044756b922b",
   "metadata": {},
   "outputs": [],
   "source": [
    "params.qubit.pipulse.len(3)"
   ]
  },
  {
   "cell_type": "code",
   "execution_count": 5,
   "id": "ca19791b-17e3-43aa-b388-32e75872afe9",
   "metadata": {},
   "outputs": [],
   "source": [
    "vna = cli.create_instrument(\n",
    "    'instrumentserver.testing.dummy_instruments.rf.ResonatorResponse', \n",
    "    'vna',  # this is the name of the instrument in the server station\n",
    "    f0=6.789e9,  # the resonance frequency of the mock resonator\n",
    "    df=1e6,  # the linewidth\n",
    ")"
   ]
  },
  {
   "cell_type": "code",
   "execution_count": null,
   "id": "0e3fb77d-453d-4345-9d37-792b273c0969",
   "metadata": {},
   "outputs": [],
   "source": []
  },
  {
   "cell_type": "code",
   "execution_count": null,
   "id": "661f7822-0194-4ddd-bec5-016c88a5002a",
   "metadata": {},
   "outputs": [],
   "source": []
  },
  {
   "cell_type": "code",
   "execution_count": null,
   "id": "e1035605-97eb-4000-827f-dc29345dd13a",
   "metadata": {},
   "outputs": [],
   "source": []
  },
  {
   "cell_type": "code",
   "execution_count": null,
   "id": "e95fa8d5-1a66-4f4e-b1d4-73c720b0f0a5",
   "metadata": {},
   "outputs": [],
   "source": []
  },
  {
   "cell_type": "code",
   "execution_count": 6,
   "id": "951b0062-f8d3-4da5-9a63-26347628597c",
   "metadata": {},
   "outputs": [],
   "source": [
    "from dataclasses import dataclass"
   ]
  },
  {
   "cell_type": "code",
   "execution_count": 7,
   "id": "ac5babbd-ed26-4c0c-be91-554afef044a5",
   "metadata": {},
   "outputs": [],
   "source": [
    "@dataclass\n",
    "class MyData:\n",
    "    name: str\n",
    "    value: float\n",
    "        \n",
    "    def __repr__(self):\n",
    "        return str(self)\n",
    "\n",
    "    def __str__(self):\n",
    "        return f\"\"\"{{\n",
    "    'name': {self.name},\n",
    "    'value': {self.value},\n",
    "}}\n",
    "\"\"\"\n"
   ]
  },
  {
   "cell_type": "code",
   "execution_count": 8,
   "id": "31963f3c-2572-4bb3-a10e-e7bc18b7b7c2",
   "metadata": {},
   "outputs": [],
   "source": [
    "data = MyData(name='my name', value=1.23)"
   ]
  },
  {
   "cell_type": "code",
   "execution_count": 9,
   "id": "6224e030-c786-4aa1-bf5e-af08111406de",
   "metadata": {},
   "outputs": [
    {
     "data": {
      "text/plain": [
       "\"{\\n    'name': my name,\\n    'value': 1.23,\\n}\\n\""
      ]
     },
     "execution_count": 9,
     "metadata": {},
     "output_type": "execute_result"
    }
   ],
   "source": [
    "str(data)"
   ]
  },
  {
   "cell_type": "code",
   "execution_count": 10,
   "id": "319b8c1b-887e-48be-98b6-d29f4e2141a2",
   "metadata": {},
   "outputs": [
    {
     "data": {
      "text/plain": [
       "{\n",
       "    'name': my name,\n",
       "    'value': 1.23,\n",
       "}"
      ]
     },
     "execution_count": 10,
     "metadata": {},
     "output_type": "execute_result"
    }
   ],
   "source": [
    "data"
   ]
  },
  {
   "cell_type": "code",
   "execution_count": null,
   "id": "7af159b7-020f-4968-9d3c-208a15947f4c",
   "metadata": {},
   "outputs": [],
   "source": [
    "import zmq\n",
    "# class SubClient:\n",
    "#     \"\"\"Test client to test PUB-SUB\"\"\"\n",
    "\n",
    "#     def __init__(self, host='localhost', port=5554):\n",
    "#         self.connected = False\n",
    "#         self.context = None\n",
    "#         self.socket = None\n",
    "#         self.host = host\n",
    "#         self.port = port\n",
    "#         self.addr = f\"tcp://{host}:{port}\"\n",
    "#         print(\"I am working\")\n",
    "\n",
    "#     def connect(self):\n",
    "#         self.context = zmq.Context()\n",
    "#         self.socket = self.context.socket(zmq.SUB)\n",
    "#         self.socket.connect(self.addr)\n",
    "#         self.connected = True\n",
    "\n",
    "#         while self.connected:\n",
    "\n",
    "#             message = self.socket.recv_string()\n",
    "#             print(\" the message is: \" + message)\n",
    "#             print(\"hello\")\n",
    "\n",
    "#         print(\"closing connection\")\n",
    "#         self.socket.close()\n",
    "#         return True"
   ]
  },
  {
   "cell_type": "code",
   "execution_count": null,
   "id": "64b7b8c0-5180-462d-bdab-0e08ad464d17",
   "metadata": {},
   "outputs": [],
   "source": []
  },
  {
   "cell_type": "code",
   "execution_count": 1,
   "id": "c8ee480c-13a5-4941-b3d2-d6dd85c359ac",
   "metadata": {},
   "outputs": [],
   "source": [
    "import zmq"
   ]
  },
  {
   "cell_type": "code",
   "execution_count": 2,
   "id": "94b1b454-b543-47a3-86e7-dfc362a3eb0e",
   "metadata": {},
   "outputs": [
    {
     "data": {
      "text/plain": [
       "<contextlib._GeneratorContextManager at 0x1e647489d60>"
      ]
     },
     "execution_count": 2,
     "metadata": {},
     "output_type": "execute_result"
    }
   ],
   "source": [
    "addr = \"tcp://localhost:5554\"\n",
    "context = zmq.Context()\n",
    "socket = context.socket(zmq.SUB)\n",
    "socket.connect(addr)"
   ]
  },
  {
   "cell_type": "code",
   "execution_count": 4,
   "id": "db1bc7d8-1fbb-433a-b8bb-7fdcb5c0fa3d",
   "metadata": {},
   "outputs": [
    {
     "name": "stdout",
     "output_type": "stream",
     "text": [
      "params.qubit.pipulse.len has a new value of: 23\n"
     ]
    }
   ],
   "source": [
    "socket.setsockopt_string(zmq.SUBSCRIBE, '')\n",
    "\n",
    "msg = socket.recv_string()\n",
    "print(msg)"
   ]
  },
  {
   "cell_type": "code",
   "execution_count": null,
   "id": "07e4160c-dfda-4e47-804e-a01ed9f8e2d2",
   "metadata": {},
   "outputs": [
    {
     "name": "stdout",
     "output_type": "stream",
     "text": [
      "params.qubit.pipulse.amp has been called\n",
      "params.qubit.pipulse.len has been called\n",
      "params.qubit.pipulse.amp has a new value of: 25\n",
      "params.qubit.pipulse.amp has been called\n",
      "params.qubit.pipulse.len has been called\n",
      "params.qubit.frequency has been called\n"
     ]
    }
   ],
   "source": [
    "while True:\n",
    "    msg = socket.recv_string()\n",
    "    print(msg)"
   ]
  },
  {
   "cell_type": "code",
   "execution_count": null,
   "id": "8fe66f3c-870f-4df9-87d2-6c7686e90a85",
   "metadata": {},
   "outputs": [],
   "source": []
  }
 ],
 "metadata": {
  "kernelspec": {
   "display_name": "Python [conda env:qcodes]",
   "language": "python",
   "name": "conda-env-qcodes-py"
  },
  "language_info": {
   "codemirror_mode": {
    "name": "ipython",
    "version": 3
   },
   "file_extension": ".py",
   "mimetype": "text/x-python",
   "name": "python",
   "nbconvert_exporter": "python",
   "pygments_lexer": "ipython3",
   "version": "3.9.2"
  }
 },
 "nbformat": 4,
 "nbformat_minor": 5
}
