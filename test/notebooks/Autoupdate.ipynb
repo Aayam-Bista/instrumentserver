{
 "cells": [
  {
   "cell_type": "code",
   "execution_count": 1,
   "id": "a537f51e-cd6f-406f-9bb7-59f80133e622",
   "metadata": {},
   "outputs": [],
   "source": [
    "from pprint import pprint\n",
    "import time\n",
    "\n",
    "import numpy as np\n",
    "from matplotlib import pyplot as plt\n",
    "import h5py\n",
    "\n",
    "\n",
    "from qcodes import Instrument, Station, find_or_create_instrument\n",
    "from plottr.data import datadict_storage as dds, datadict as dd"
   ]
  },
  {
   "cell_type": "code",
   "execution_count": 2,
   "id": "dca73b65-524d-4fe0-8f9f-ac662d287c96",
   "metadata": {},
   "outputs": [],
   "source": [
    "from instrumentserver.client import Client as InstrumentClient\n",
    "cli = InstrumentClient() # connect to default host (localhost) and default port (5555)"
   ]
  },
  {
   "cell_type": "code",
   "execution_count": 3,
   "id": "d0b1f31c-5f2e-4fc5-aefb-5d58008c269c",
   "metadata": {},
   "outputs": [
    {
     "name": "stdout",
     "output_type": "stream",
     "text": [
      "<class 'AttributeError'>: (\"'ProxyInstrumentModule' object and its delegates have no attribute 'createFromParamDict'\",)\n",
      "<class 'AttributeError'>: (\"'ProxyInstrumentModule' object and its delegates have no attribute 'fromFile'\",)\n",
      "<class 'AttributeError'>: (\"'ProxyInstrumentModule' object and its delegates have no attribute 'fromParamDict'\",)\n",
      "<class 'AttributeError'>: (\"'ProxyInstrumentModule' object and its delegates have no attribute 'has_param'\",)\n",
      "<class 'AttributeError'>: (\"'ProxyInstrumentModule' object and its delegates have no attribute 'list'\",)\n",
      "<class 'AttributeError'>: (\"'ProxyInstrumentModule' object and its delegates have no attribute 'parameter'\",)\n",
      "<class 'AttributeError'>: (\"'ProxyInstrumentModule' object and its delegates have no attribute 'remove_empty_submodules'\",)\n",
      "<class 'AttributeError'>: (\"'ProxyInstrumentModule' object and its delegates have no attribute 'toFile'\",)\n",
      "<class 'AttributeError'>: (\"'ProxyInstrumentModule' object and its delegates have no attribute 'to_tree'\",)\n",
      "<class 'AttributeError'>: (\"'ProxyInstrumentModule' object and its delegates have no attribute 'createFromParamDict'\",)\n",
      "<class 'AttributeError'>: (\"'ProxyInstrumentModule' object and its delegates have no attribute 'fromFile'\",)\n",
      "<class 'AttributeError'>: (\"'ProxyInstrumentModule' object and its delegates have no attribute 'fromParamDict'\",)\n",
      "<class 'AttributeError'>: (\"'ProxyInstrumentModule' object and its delegates have no attribute 'has_param'\",)\n",
      "<class 'AttributeError'>: (\"'ProxyInstrumentModule' object and its delegates have no attribute 'list'\",)\n",
      "<class 'AttributeError'>: (\"'ProxyInstrumentModule' object and its delegates have no attribute 'parameter'\",)\n",
      "<class 'AttributeError'>: (\"'ProxyInstrumentModule' object and its delegates have no attribute 'remove_empty_submodules'\",)\n",
      "<class 'AttributeError'>: (\"'ProxyInstrumentModule' object and its delegates have no attribute 'toFile'\",)\n",
      "<class 'AttributeError'>: (\"'ProxyInstrumentModule' object and its delegates have no attribute 'to_tree'\",)\n",
      "<class 'AttributeError'>: (\"'ProxyInstrumentModule' object and its delegates have no attribute 'ask'\",)\n",
      "<class 'AttributeError'>: (\"'ProxyInstrumentModule' object and its delegates have no attribute 'write'\",)\n",
      "<class 'AttributeError'>: (\"'ProxyInstrumentModule' object and its delegates have no attribute 'ask'\",)\n",
      "<class 'AttributeError'>: (\"'ProxyInstrumentModule' object and its delegates have no attribute 'write'\",)\n",
      "<class 'AttributeError'>: (\"'ProxyInstrumentModule' object and its delegates have no attribute 'createFromParamDict'\",)\n",
      "<class 'AttributeError'>: (\"'ProxyInstrumentModule' object and its delegates have no attribute 'fromFile'\",)\n",
      "<class 'AttributeError'>: (\"'ProxyInstrumentModule' object and its delegates have no attribute 'fromParamDict'\",)\n",
      "<class 'AttributeError'>: (\"'ProxyInstrumentModule' object and its delegates have no attribute 'has_param'\",)\n",
      "<class 'AttributeError'>: (\"'ProxyInstrumentModule' object and its delegates have no attribute 'list'\",)\n",
      "<class 'AttributeError'>: (\"'ProxyInstrumentModule' object and its delegates have no attribute 'parameter'\",)\n",
      "<class 'AttributeError'>: (\"'ProxyInstrumentModule' object and its delegates have no attribute 'remove_empty_submodules'\",)\n",
      "<class 'AttributeError'>: (\"'ProxyInstrumentModule' object and its delegates have no attribute 'toFile'\",)\n",
      "<class 'AttributeError'>: (\"'ProxyInstrumentModule' object and its delegates have no attribute 'to_tree'\",)\n"
     ]
    },
    {
     "data": {
      "text/plain": [
       "40"
      ]
     },
     "execution_count": 3,
     "metadata": {},
     "output_type": "execute_result"
    }
   ],
   "source": [
    "params = cli.get_instrument('params') # 'params' is the name the startup script gave the instrument\n",
    "\n",
    "# simply output the value of the pi pulse length:\n",
    "params.qubit.pipulse.len()"
   ]
  },
  {
   "cell_type": "code",
   "execution_count": 4,
   "id": "aaa68cb1-fceb-4438-adfb-1044756b922b",
   "metadata": {},
   "outputs": [],
   "source": [
    "params.qubit.pipulse.len(46)"
   ]
  },
  {
   "cell_type": "code",
   "execution_count": 5,
   "id": "ca19791b-17e3-43aa-b388-32e75872afe9",
   "metadata": {},
   "outputs": [
    {
     "name": "stdout",
     "output_type": "stream",
     "text": [
      "hello\n"
     ]
    }
   ],
   "source": [
    "print(\"hello\")"
   ]
  },
  {
   "cell_type": "code",
   "execution_count": 6,
   "id": "0e3fb77d-453d-4345-9d37-792b273c0969",
   "metadata": {},
   "outputs": [
    {
     "name": "stdout",
     "output_type": "stream",
     "text": [
      "<class 'AttributeError'>: (\"'ProxyInstrumentModule' object and its delegates have no attribute 'test'\",)\n"
     ]
    },
    {
     "ename": "AttributeError",
     "evalue": "'ProxyInstrumentModule' object and its delegates have no attribute 'test'",
     "output_type": "error",
     "traceback": [
      "\u001b[1;31m---------------------------------------------------------------------------\u001b[0m",
      "\u001b[1;31mAttributeError\u001b[0m                            Traceback (most recent call last)",
      "\u001b[1;32mc:\\users\\msmt\\documents\\github\\instrumentserver\\instrumentserver\\client\\proxy.py\u001b[0m in \u001b[0;36m__getattr__\u001b[1;34m(self, item)\u001b[0m\n\u001b[0;32m    326\u001b[0m         \u001b[1;32mtry\u001b[0m\u001b[1;33m:\u001b[0m\u001b[1;33m\u001b[0m\u001b[1;33m\u001b[0m\u001b[0m\n\u001b[1;32m--> 327\u001b[1;33m             \u001b[1;32mreturn\u001b[0m \u001b[0msuper\u001b[0m\u001b[1;33m(\u001b[0m\u001b[1;33m)\u001b[0m\u001b[1;33m.\u001b[0m\u001b[0m__getattr__\u001b[0m\u001b[1;33m(\u001b[0m\u001b[0mitem\u001b[0m\u001b[1;33m)\u001b[0m\u001b[1;33m\u001b[0m\u001b[1;33m\u001b[0m\u001b[0m\n\u001b[0m\u001b[0;32m    328\u001b[0m         \u001b[1;32mexcept\u001b[0m \u001b[0mException\u001b[0m \u001b[1;32mas\u001b[0m \u001b[0me\u001b[0m\u001b[1;33m:\u001b[0m\u001b[1;33m\u001b[0m\u001b[1;33m\u001b[0m\u001b[0m\n",
      "\u001b[1;32m~\\Miniconda3\\envs\\qcodes\\lib\\site-packages\\qcodes\\utils\\helpers.py\u001b[0m in \u001b[0;36m__getattr__\u001b[1;34m(self, key)\u001b[0m\n\u001b[0;32m    405\u001b[0m \u001b[1;33m\u001b[0m\u001b[0m\n\u001b[1;32m--> 406\u001b[1;33m         raise AttributeError(\n\u001b[0m\u001b[0;32m    407\u001b[0m             \"'{}' object and its delegates have no attribute '{}'\".format(\n",
      "\u001b[1;31mAttributeError\u001b[0m: 'ProxyInstrumentModule' object and its delegates have no attribute 'test'",
      "\nDuring handling of the above exception, another exception occurred:\n",
      "\u001b[1;31mAttributeError\u001b[0m                            Traceback (most recent call last)",
      "\u001b[1;32m<ipython-input-6-043cf1b35aef>\u001b[0m in \u001b[0;36m<module>\u001b[1;34m\u001b[0m\n\u001b[1;32m----> 1\u001b[1;33m \u001b[0mparams\u001b[0m\u001b[1;33m.\u001b[0m\u001b[0mqubit\u001b[0m\u001b[1;33m.\u001b[0m\u001b[0mtest\u001b[0m\u001b[1;33m(\u001b[0m\u001b[1;33m)\u001b[0m\u001b[1;33m\u001b[0m\u001b[1;33m\u001b[0m\u001b[0m\n\u001b[0m",
      "\u001b[1;32mc:\\users\\msmt\\documents\\github\\instrumentserver\\instrumentserver\\client\\proxy.py\u001b[0m in \u001b[0;36m__getattr__\u001b[1;34m(self, item)\u001b[0m\n\u001b[0;32m    328\u001b[0m         \u001b[1;32mexcept\u001b[0m \u001b[0mException\u001b[0m \u001b[1;32mas\u001b[0m \u001b[0me\u001b[0m\u001b[1;33m:\u001b[0m\u001b[1;33m\u001b[0m\u001b[1;33m\u001b[0m\u001b[0m\n\u001b[0;32m    329\u001b[0m             \u001b[0mprint\u001b[0m\u001b[1;33m(\u001b[0m\u001b[1;34mf\"{type(e)}: {e.args}\"\u001b[0m\u001b[1;33m)\u001b[0m\u001b[1;33m\u001b[0m\u001b[1;33m\u001b[0m\u001b[0m\n\u001b[1;32m--> 330\u001b[1;33m             \u001b[1;32mreturn\u001b[0m \u001b[0msuper\u001b[0m\u001b[1;33m(\u001b[0m\u001b[1;33m)\u001b[0m\u001b[1;33m.\u001b[0m\u001b[0m__getattr__\u001b[0m\u001b[1;33m(\u001b[0m\u001b[0mitem\u001b[0m\u001b[1;33m)\u001b[0m\u001b[1;33m\u001b[0m\u001b[1;33m\u001b[0m\u001b[0m\n\u001b[0m\u001b[0;32m    331\u001b[0m \u001b[1;33m\u001b[0m\u001b[0m\n\u001b[0;32m    332\u001b[0m \u001b[1;33m\u001b[0m\u001b[0m\n",
      "\u001b[1;32m~\\Miniconda3\\envs\\qcodes\\lib\\site-packages\\qcodes\\utils\\helpers.py\u001b[0m in \u001b[0;36m__getattr__\u001b[1;34m(self, key)\u001b[0m\n\u001b[0;32m    404\u001b[0m                 \u001b[1;32mpass\u001b[0m\u001b[1;33m\u001b[0m\u001b[1;33m\u001b[0m\u001b[0m\n\u001b[0;32m    405\u001b[0m \u001b[1;33m\u001b[0m\u001b[0m\n\u001b[1;32m--> 406\u001b[1;33m         raise AttributeError(\n\u001b[0m\u001b[0;32m    407\u001b[0m             \"'{}' object and its delegates have no attribute '{}'\".format(\n\u001b[0;32m    408\u001b[0m                 self.__class__.__name__, key))\n",
      "\u001b[1;31mAttributeError\u001b[0m: 'ProxyInstrumentModule' object and its delegates have no attribute 'test'"
     ]
    }
   ],
   "source": [
    "params.qubit.test()"
   ]
  },
  {
   "cell_type": "code",
   "execution_count": null,
   "id": "661f7822-0194-4ddd-bec5-016c88a5002a",
   "metadata": {},
   "outputs": [],
   "source": []
  },
  {
   "cell_type": "code",
   "execution_count": null,
   "id": "e1035605-97eb-4000-827f-dc29345dd13a",
   "metadata": {},
   "outputs": [],
   "source": []
  },
  {
   "cell_type": "code",
   "execution_count": null,
   "id": "e95fa8d5-1a66-4f4e-b1d4-73c720b0f0a5",
   "metadata": {},
   "outputs": [],
   "source": []
  },
  {
   "cell_type": "code",
   "execution_count": null,
   "id": "951b0062-f8d3-4da5-9a63-26347628597c",
   "metadata": {},
   "outputs": [],
   "source": [
    "from dataclasses import dataclass"
   ]
  },
  {
   "cell_type": "code",
   "execution_count": null,
   "id": "ac5babbd-ed26-4c0c-be91-554afef044a5",
   "metadata": {},
   "outputs": [],
   "source": [
    "@dataclass\n",
    "class MyData:\n",
    "    name: str\n",
    "    value: float\n",
    "        \n",
    "    def __repr__(self):\n",
    "        return str(self)\n",
    "\n",
    "    def __str__(self):\n",
    "        return f\"\"\"{{\n",
    "    'name': {self.name},\n",
    "    'value': {self.value},\n",
    "}}\n",
    "\"\"\"\n"
   ]
  },
  {
   "cell_type": "code",
   "execution_count": null,
   "id": "31963f3c-2572-4bb3-a10e-e7bc18b7b7c2",
   "metadata": {},
   "outputs": [],
   "source": [
    "data = MyData(name='my name', value=1.23)"
   ]
  },
  {
   "cell_type": "code",
   "execution_count": null,
   "id": "6224e030-c786-4aa1-bf5e-af08111406de",
   "metadata": {},
   "outputs": [],
   "source": [
    "str(data)"
   ]
  },
  {
   "cell_type": "code",
   "execution_count": null,
   "id": "319b8c1b-887e-48be-98b6-d29f4e2141a2",
   "metadata": {},
   "outputs": [],
   "source": [
    "data"
   ]
  },
  {
   "cell_type": "code",
   "execution_count": null,
   "id": "7af159b7-020f-4968-9d3c-208a15947f4c",
   "metadata": {},
   "outputs": [],
   "source": [
    "import zmq\n",
    "# class SubClient:\n",
    "#     \"\"\"Test client to test PUB-SUB\"\"\"\n",
    "\n",
    "#     def __init__(self, host='localhost', port=5554):\n",
    "#         self.connected = False\n",
    "#         self.context = None\n",
    "#         self.socket = None\n",
    "#         self.host = host\n",
    "#         self.port = port\n",
    "#         self.addr = f\"tcp://{host}:{port}\"\n",
    "#         print(\"I am working\")\n",
    "\n",
    "#     def connect(self):\n",
    "#         self.context = zmq.Context()\n",
    "#         self.socket = self.context.socket(zmq.SUB)\n",
    "#         self.socket.connect(self.addr)\n",
    "#         self.connected = True\n",
    "\n",
    "#         while self.connected:\n",
    "\n",
    "#             message = self.socket.recv_string()\n",
    "#             print(\" the message is: \" + message)\n",
    "#             print(\"hello\")\n",
    "\n",
    "#         print(\"closing connection\")\n",
    "#         self.socket.close()\n",
    "#         return True"
   ]
  },
  {
   "cell_type": "code",
   "execution_count": null,
   "id": "64b7b8c0-5180-462d-bdab-0e08ad464d17",
   "metadata": {},
   "outputs": [],
   "source": []
  },
  {
   "cell_type": "code",
   "execution_count": null,
   "id": "c8ee480c-13a5-4941-b3d2-d6dd85c359ac",
   "metadata": {},
   "outputs": [],
   "source": [
    "import zmq"
   ]
  },
  {
   "cell_type": "code",
   "execution_count": null,
   "id": "94b1b454-b543-47a3-86e7-dfc362a3eb0e",
   "metadata": {},
   "outputs": [],
   "source": [
    "addr = \"tcp://localhost:5554\"\n",
    "context = zmq.Context()\n",
    "socket = context.socket(zmq.SUB)\n",
    "socket.connect(addr)"
   ]
  },
  {
   "cell_type": "code",
   "execution_count": null,
   "id": "db1bc7d8-1fbb-433a-b8bb-7fdcb5c0fa3d",
   "metadata": {},
   "outputs": [],
   "source": [
    "socket.setsockopt_string(zmq.SUBSCRIBE, '')\n",
    "\n",
    "msg = socket.recv_string()\n",
    "print(msg)"
   ]
  },
  {
   "cell_type": "code",
   "execution_count": null,
   "id": "07e4160c-dfda-4e47-804e-a01ed9f8e2d2",
   "metadata": {},
   "outputs": [],
   "source": [
    "while True:\n",
    "    msg = socket.recv_string()\n",
    "    print(msg)"
   ]
  },
  {
   "cell_type": "code",
   "execution_count": null,
   "id": "8fe66f3c-870f-4df9-87d2-6c7686e90a85",
   "metadata": {},
   "outputs": [],
   "source": []
  },
  {
   "cell_type": "code",
   "execution_count": null,
   "id": "0f6ccd1c-81d5-4907-ae48-74783ceb1a83",
   "metadata": {},
   "outputs": [],
   "source": []
  },
  {
   "cell_type": "code",
   "execution_count": null,
   "id": "fae8e590-e1e4-41f3-96f9-b80ceb2ab1d0",
   "metadata": {},
   "outputs": [],
   "source": []
  },
  {
   "cell_type": "code",
   "execution_count": 5,
   "id": "6b6c724a-ff44-4fb7-956b-cb9f53d6059e",
   "metadata": {},
   "outputs": [],
   "source": [
    "class MyClass:    \n",
    "    x = 10\n",
    "    y = 20\n",
    "    \n",
    "    def __getattr__(self, name):\n",
    "        print(f'gotta set {name}!')\n",
    "        setattr(self, name, True)\n",
    "        return True\n",
    "\n",
    "#         if not hasattr(self, name):\n",
    "#             print(f'gotta create {name}!')\n",
    "#             setattr(self, name, True)\n",
    "#             return True\n",
    "    \n",
    "c = MyClass()"
   ]
  },
  {
   "cell_type": "code",
   "execution_count": 9,
   "id": "aa77fce7-de23-43c9-91d7-4caffecb3068",
   "metadata": {},
   "outputs": [
    {
     "data": {
      "text/plain": [
       "4"
      ]
     },
     "execution_count": 9,
     "metadata": {},
     "output_type": "execute_result"
    }
   ],
   "source": [
    "c.x"
   ]
  },
  {
   "cell_type": "code",
   "execution_count": 8,
   "id": "0358714c-3b0b-4484-9e24-74c29b05cc29",
   "metadata": {},
   "outputs": [],
   "source": [
    "c.x = 4"
   ]
  },
  {
   "cell_type": "code",
   "execution_count": 10,
   "id": "6fb16711-0ee0-4539-8f52-af15b0fd2c3f",
   "metadata": {},
   "outputs": [
    {
     "name": "stdout",
     "output_type": "stream",
     "text": [
      "gotta set c!\n"
     ]
    },
    {
     "data": {
      "text/plain": [
       "True"
      ]
     },
     "execution_count": 10,
     "metadata": {},
     "output_type": "execute_result"
    }
   ],
   "source": [
    "c.c"
   ]
  },
  {
   "cell_type": "code",
   "execution_count": 11,
   "id": "67c62bac-7c5f-456f-9940-bb228ca71c07",
   "metadata": {},
   "outputs": [
    {
     "data": {
      "text/plain": [
       "True"
      ]
     },
     "execution_count": 11,
     "metadata": {},
     "output_type": "execute_result"
    }
   ],
   "source": [
    "c.c"
   ]
  },
  {
   "cell_type": "code",
   "execution_count": null,
   "id": "c4d2bab4-c90b-46e9-97b9-599e7353d36d",
   "metadata": {},
   "outputs": [],
   "source": []
  }
 ],
 "metadata": {
  "kernelspec": {
   "display_name": "Python [conda env:qcodes]",
   "language": "python",
   "name": "conda-env-qcodes-py"
  },
  "language_info": {
   "codemirror_mode": {
    "name": "ipython",
    "version": 3
   },
   "file_extension": ".py",
   "mimetype": "text/x-python",
   "name": "python",
   "nbconvert_exporter": "python",
   "pygments_lexer": "ipython3",
   "version": "3.9.2"
  }
 },
 "nbformat": 4,
 "nbformat_minor": 5
}
