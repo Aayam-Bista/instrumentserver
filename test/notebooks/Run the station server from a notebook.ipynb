{
 "cells": [
  {
   "cell_type": "code",
   "execution_count": 1,
   "metadata": {
    "Collapsed": "false"
   },
   "outputs": [],
   "source": [
    "%gui qt"
   ]
  },
  {
   "cell_type": "code",
   "execution_count": 2,
   "metadata": {
    "Collapsed": "false"
   },
   "outputs": [],
   "source": [
    "from qcodes import Instrument, Station, Parameter\n",
    "\n",
    "from instrumentserver import servergui"
   ]
  },
  {
   "cell_type": "code",
   "execution_count": 3,
   "metadata": {
    "Collapsed": "false"
   },
   "outputs": [
    {
     "name": "stdout",
     "output_type": "stream",
     "text": [
      "Setting up logging for instrumentserver ...\n"
     ]
    }
   ],
   "source": [
    "# set up qcodes\n",
    "\n",
    "# close all instruments -- good practice in interactive use\n",
    "Instrument.close_all()\n",
    "\n",
    "# dummy instrument: VNA\n",
    "from instrumentserver.testing.dummy_instruments.rf import ResonatorResponse\n",
    "dummy_vna = ResonatorResponse('dummy_vna')\n",
    "dummy_vna.start_frequency(4.9e9)\n",
    "dummy_vna.stop_frequency(5.1e9)\n",
    "\n",
    "from instrumentserver.testing.dummy_instruments.rf import Generator\n",
    "rf_src = Generator('rf_src')\n",
    "lo_src = Generator('lo_src')\n",
    "qubit_src = Generator('qubit_src')\n",
    "\n",
    "current_sample = Parameter('current_sample', set_cmd=None, initial_value='testsample')\n",
    "\n",
    "station = Station(dummy_vna, current_sample, rf_src, lo_src, qubit_src)\n",
    "\n",
    "server = servergui(station)"
   ]
  },
  {
   "cell_type": "code",
   "execution_count": null,
   "metadata": {
    "Collapsed": "false"
   },
   "outputs": [],
   "source": []
  }
 ],
 "metadata": {
  "kernelspec": {
   "display_name": "Python [conda env:qcodes]",
   "language": "python",
   "name": "conda-env-qcodes-py"
  },
  "language_info": {
   "codemirror_mode": {
    "name": "ipython",
    "version": 3
   },
   "file_extension": ".py",
   "mimetype": "text/x-python",
   "name": "python",
   "nbconvert_exporter": "python",
   "pygments_lexer": "ipython3",
   "version": "3.7.5"
  }
 },
 "nbformat": 4,
 "nbformat_minor": 4
}
