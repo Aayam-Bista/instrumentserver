{
 "cells": [
  {
   "cell_type": "code",
   "execution_count": 1,
   "metadata": {
    "Collapsed": "false"
   },
   "outputs": [],
   "source": [
    "%gui qt\n",
    "# %load_ext autoreload\n",
    "# %autoreload 2"
   ]
  },
  {
   "cell_type": "code",
   "execution_count": null,
   "metadata": {
    "Collapsed": "false"
   },
   "outputs": [],
   "source": []
  },
  {
   "cell_type": "code",
   "execution_count": 2,
   "metadata": {
    "Collapsed": "false"
   },
   "outputs": [],
   "source": [
    "import numpy as np\n",
    "import random\n",
    "import math\n",
    "import numbers\n",
    "from pprint import pprint\n",
    "\n",
    "from qcodes import Station, Instrument, Parameter\n",
    "from qcodes.utils import validators\n",
    "\n",
    "from instrumentserver import setupLogging, servergui\n",
    "from instrumentserver.helpers import getInstrumentMethods, getInstrumentParameters\n",
    "from instrumentserver.serialize import (\n",
    "    toDataFrame, saveParamsToFile, loadParamsFromFile,\n",
    "    toParamDict,\n",
    ")\n",
    "\n",
    "from instrumentserver.gui import widgetDialog\n",
    "from instrumentserver.params import ParameterManager\n",
    "from instrumentserver.gui.instruments import ParameterManagerGui"
   ]
  },
  {
   "cell_type": "code",
   "execution_count": null,
   "metadata": {
    "Collapsed": "false"
   },
   "outputs": [],
   "source": []
  },
  {
   "cell_type": "code",
   "execution_count": 3,
   "metadata": {
    "Collapsed": "false"
   },
   "outputs": [],
   "source": [
    "Instrument.close_all()\n",
    "\n",
    "pm = ParameterManager('pm')\n",
    "station = Station(pm)\n",
    "\n",
    "pm.add('sample_name', 'qubit_test-5', vals=validators.Strings())\n",
    "\n",
    "pm.add('readout.pulse_length', 1000, unit='ns', vals=validators.Ints())\n",
    "pm.add('readout.envelope', 'envelope_file.npz', vals=validators.Strings())\n",
    "pm.add('readout.n_repetitions', 1000, vals=validators.Ints())\n",
    "pm.add('readout.use_envelope', True, vals=validators.Bool())\n",
    "\n",
    "pm.add('qubit.frequency', 5.678e9, unit='Hz', vals=validators.Numbers())\n",
    "pm.add('qubit.pi_pulse.len', 20, unit='ns', vals=validators.Ints())\n",
    "pm.add('qubit.pi_pulse.amp', 126, unit='DAC units', vals=validators.Ints())\n",
    "\n",
    "pm.add('morestuff.a_sequence', [])\n",
    "pm.add('morestuff.a_complex_number', 0+0j, vals=validators.ComplexNumbers())\n",
    "pm.add('morestuff.something.hidden.deep.away', True, vals=validators.Bool())"
   ]
  },
  {
   "cell_type": "code",
   "execution_count": 4,
   "metadata": {
    "Collapsed": "false"
   },
   "outputs": [],
   "source": [
    "dialog = widgetDialog(\n",
    "    ParameterManagerGui(pm)\n",
    ")"
   ]
  },
  {
   "cell_type": "code",
   "execution_count": null,
   "metadata": {
    "Collapsed": "false"
   },
   "outputs": [],
   "source": []
  },
  {
   "cell_type": "code",
   "execution_count": 8,
   "metadata": {
    "Collapsed": "false"
   },
   "outputs": [
    {
     "data": {
      "text/html": [
       "<div>\n",
       "<style scoped>\n",
       "    .dataframe tbody tr th:only-of-type {\n",
       "        vertical-align: middle;\n",
       "    }\n",
       "\n",
       "    .dataframe tbody tr th {\n",
       "        vertical-align: top;\n",
       "    }\n",
       "\n",
       "    .dataframe thead th {\n",
       "        text-align: right;\n",
       "    }\n",
       "</style>\n",
       "<table border=\"1\" class=\"dataframe\">\n",
       "  <thead>\n",
       "    <tr style=\"text-align: right;\">\n",
       "      <th></th>\n",
       "      <th>value</th>\n",
       "      <th>unit</th>\n",
       "      <th>vals</th>\n",
       "    </tr>\n",
       "  </thead>\n",
       "  <tbody>\n",
       "    <tr>\n",
       "      <th>pm.morestuff.a_complex_number</th>\n",
       "      <td>0j</td>\n",
       "      <td></td>\n",
       "      <td>&lt;Complex Number&gt;</td>\n",
       "    </tr>\n",
       "    <tr>\n",
       "      <th>pm.morestuff.a_sequence</th>\n",
       "      <td>[]</td>\n",
       "      <td></td>\n",
       "      <td>&lt;Anything&gt;</td>\n",
       "    </tr>\n",
       "    <tr>\n",
       "      <th>pm.morestuff.something.different</th>\n",
       "      <td>10</td>\n",
       "      <td>Hz</td>\n",
       "      <td>&lt;Numbers 0&lt;=v&lt;=100&gt;</td>\n",
       "    </tr>\n",
       "    <tr>\n",
       "      <th>pm.morestuff.something.else</th>\n",
       "      <td>5</td>\n",
       "      <td></td>\n",
       "      <td>&lt;Anything&gt;</td>\n",
       "    </tr>\n",
       "    <tr>\n",
       "      <th>pm.morestuff.something.hidden.deep.away</th>\n",
       "      <td>True</td>\n",
       "      <td></td>\n",
       "      <td>&lt;Boolean&gt;</td>\n",
       "    </tr>\n",
       "    <tr>\n",
       "      <th>pm.qubit.frequency</th>\n",
       "      <td>5.678e+09</td>\n",
       "      <td>Hz</td>\n",
       "      <td>&lt;Numbers&gt;</td>\n",
       "    </tr>\n",
       "    <tr>\n",
       "      <th>pm.qubit.pi_pulse.amp</th>\n",
       "      <td>126</td>\n",
       "      <td>DAC units</td>\n",
       "      <td>&lt;Ints&gt;</td>\n",
       "    </tr>\n",
       "    <tr>\n",
       "      <th>pm.qubit.pi_pulse.len</th>\n",
       "      <td>40</td>\n",
       "      <td>ns</td>\n",
       "      <td>&lt;Ints&gt;</td>\n",
       "    </tr>\n",
       "    <tr>\n",
       "      <th>pm.readout.envelope</th>\n",
       "      <td>envelope_file.npz</td>\n",
       "      <td></td>\n",
       "      <td>&lt;Strings&gt;</td>\n",
       "    </tr>\n",
       "    <tr>\n",
       "      <th>pm.readout.n_repetitions</th>\n",
       "      <td>1000</td>\n",
       "      <td></td>\n",
       "      <td>&lt;Ints&gt;</td>\n",
       "    </tr>\n",
       "    <tr>\n",
       "      <th>pm.readout.pulse_length</th>\n",
       "      <td>1000</td>\n",
       "      <td>ns</td>\n",
       "      <td>&lt;Ints&gt;</td>\n",
       "    </tr>\n",
       "    <tr>\n",
       "      <th>pm.readout.use_envelope</th>\n",
       "      <td>True</td>\n",
       "      <td></td>\n",
       "      <td>&lt;Boolean&gt;</td>\n",
       "    </tr>\n",
       "    <tr>\n",
       "      <th>pm.sample_name</th>\n",
       "      <td>qubit_test-5</td>\n",
       "      <td></td>\n",
       "      <td>&lt;Strings&gt;</td>\n",
       "    </tr>\n",
       "  </tbody>\n",
       "</table>\n",
       "</div>"
      ],
      "text/plain": [
       "                                                     value       unit  \\\n",
       "pm.morestuff.a_complex_number                           0j              \n",
       "pm.morestuff.a_sequence                                 []              \n",
       "pm.morestuff.something.different                        10         Hz   \n",
       "pm.morestuff.something.else                              5              \n",
       "pm.morestuff.something.hidden.deep.away               True              \n",
       "pm.qubit.frequency                               5.678e+09         Hz   \n",
       "pm.qubit.pi_pulse.amp                                  126  DAC units   \n",
       "pm.qubit.pi_pulse.len                                   40         ns   \n",
       "pm.readout.envelope                      envelope_file.npz              \n",
       "pm.readout.n_repetitions                              1000              \n",
       "pm.readout.pulse_length                               1000         ns   \n",
       "pm.readout.use_envelope                               True              \n",
       "pm.sample_name                                qubit_test-5              \n",
       "\n",
       "                                                        vals  \n",
       "pm.morestuff.a_complex_number               <Complex Number>  \n",
       "pm.morestuff.a_sequence                           <Anything>  \n",
       "pm.morestuff.something.different         <Numbers 0<=v<=100>  \n",
       "pm.morestuff.something.else                       <Anything>  \n",
       "pm.morestuff.something.hidden.deep.away            <Boolean>  \n",
       "pm.qubit.frequency                                 <Numbers>  \n",
       "pm.qubit.pi_pulse.amp                                 <Ints>  \n",
       "pm.qubit.pi_pulse.len                                 <Ints>  \n",
       "pm.readout.envelope                                <Strings>  \n",
       "pm.readout.n_repetitions                              <Ints>  \n",
       "pm.readout.pulse_length                               <Ints>  \n",
       "pm.readout.use_envelope                            <Boolean>  \n",
       "pm.sample_name                                     <Strings>  "
      ]
     },
     "execution_count": 8,
     "metadata": {},
     "output_type": "execute_result"
    }
   ],
   "source": [
    "toDataFrame(station)"
   ]
  },
  {
   "cell_type": "code",
   "execution_count": null,
   "metadata": {
    "Collapsed": "false"
   },
   "outputs": [],
   "source": []
  },
  {
   "cell_type": "code",
   "execution_count": 6,
   "metadata": {
    "Collapsed": "false"
   },
   "outputs": [],
   "source": [
    "pm.add('morestuff.something.else', 5)\n",
    "pm.qubit.pi_pulse.len(40)"
   ]
  },
  {
   "cell_type": "code",
   "execution_count": null,
   "metadata": {
    "Collapsed": "false"
   },
   "outputs": [],
   "source": []
  },
  {
   "cell_type": "code",
   "execution_count": null,
   "metadata": {
    "Collapsed": "false"
   },
   "outputs": [],
   "source": []
  },
  {
   "cell_type": "code",
   "execution_count": null,
   "metadata": {
    "Collapsed": "false"
   },
   "outputs": [],
   "source": []
  },
  {
   "cell_type": "code",
   "execution_count": null,
   "metadata": {
    "Collapsed": "false"
   },
   "outputs": [],
   "source": []
  }
 ],
 "metadata": {
  "kernelspec": {
   "display_name": "Python [conda env:qcodes]",
   "language": "python",
   "name": "conda-env-qcodes-py"
  },
  "language_info": {
   "codemirror_mode": {
    "name": "ipython",
    "version": 3
   },
   "file_extension": ".py",
   "mimetype": "text/x-python",
   "name": "python",
   "nbconvert_exporter": "python",
   "pygments_lexer": "ipython3",
   "version": "3.7.5"
  }
 },
 "nbformat": 4,
 "nbformat_minor": 4
}
