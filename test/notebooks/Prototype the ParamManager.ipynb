{
 "cells": [
  {
   "cell_type": "code",
   "execution_count": 1,
   "metadata": {
    "Collapsed": "false"
   },
   "outputs": [],
   "source": [
    "%gui qt\n",
    "%load_ext autoreload\n",
    "%autoreload 2"
   ]
  },
  {
   "cell_type": "code",
   "execution_count": null,
   "metadata": {
    "Collapsed": "false"
   },
   "outputs": [],
   "source": []
  },
  {
   "cell_type": "code",
   "execution_count": 2,
   "metadata": {
    "Collapsed": "false"
   },
   "outputs": [],
   "source": [
    "import random\n",
    "from pprint import pprint\n",
    "\n",
    "from qcodes import Station, Instrument, Parameter\n",
    "from qcodes.utils import validators\n",
    "\n",
    "from instrumentserver import setupLogging, servergui\n",
    "from instrumentserver.helpers import getInstrumentMethods, getInstrumentParameters\n",
    "from instrumentserver.serialize import (\n",
    "    toDataFrame, saveParamsToFile, loadParamsFromFile,\n",
    "    toParamDict,\n",
    ")\n",
    "\n",
    "from instrumentserver.gui import widgetDialog\n",
    "from instrumentserver.param_manager import ParameterManager\n",
    "from instrumentserver.gui.parameters import parameterDialog\n",
    "from instrumentserver.gui.instruments import ParameterManagerGui"
   ]
  },
  {
   "cell_type": "code",
   "execution_count": null,
   "metadata": {
    "Collapsed": "false"
   },
   "outputs": [],
   "source": []
  },
  {
   "cell_type": "code",
   "execution_count": 3,
   "metadata": {
    "Collapsed": "false"
   },
   "outputs": [],
   "source": [
    "Instrument.close_all()\n",
    "\n",
    "pm = ParameterManager('pm')\n",
    "station = Station(pm)\n",
    "\n",
    "pm.add('sample_name', 'qubit_test-5')\n",
    "pm.add('readout.pulse_length', 1000, unit='ns', vals=validators.Ints())\n",
    "pm.add('readout.envelope', 'envelope_file.npz')\n",
    "pm.add('readout.n_repetitions', 1000)\n",
    "pm.add('qubit.frequency', 5.678e9, unit='Hz')\n",
    "pm.add('qubit.pi_pulse.len', 20, unit='ns')\n",
    "pm.add('qubit.pi_pulse.amp', 126, unit='DAC units')"
   ]
  },
  {
   "cell_type": "code",
   "execution_count": 6,
   "metadata": {
    "Collapsed": "false"
   },
   "outputs": [],
   "source": [
    "dialog = widgetDialog(\n",
    "    ParameterManagerGui(pm)\n",
    ")"
   ]
  },
  {
   "cell_type": "code",
   "execution_count": null,
   "metadata": {
    "Collapsed": "false"
   },
   "outputs": [],
   "source": []
  },
  {
   "cell_type": "code",
   "execution_count": 7,
   "metadata": {
    "Collapsed": "false"
   },
   "outputs": [
    {
     "data": {
      "text/html": [
       "<div>\n",
       "<style scoped>\n",
       "    .dataframe tbody tr th:only-of-type {\n",
       "        vertical-align: middle;\n",
       "    }\n",
       "\n",
       "    .dataframe tbody tr th {\n",
       "        vertical-align: top;\n",
       "    }\n",
       "\n",
       "    .dataframe thead th {\n",
       "        text-align: right;\n",
       "    }\n",
       "</style>\n",
       "<table border=\"1\" class=\"dataframe\">\n",
       "  <thead>\n",
       "    <tr style=\"text-align: right;\">\n",
       "      <th></th>\n",
       "      <th>value</th>\n",
       "      <th>vals</th>\n",
       "      <th>unit</th>\n",
       "    </tr>\n",
       "  </thead>\n",
       "  <tbody>\n",
       "    <tr>\n",
       "      <th>pm.qubit.pi_pulse.amp</th>\n",
       "      <td>126</td>\n",
       "      <td>&lt;Anything&gt;</td>\n",
       "      <td>DAC units</td>\n",
       "    </tr>\n",
       "    <tr>\n",
       "      <th>pm.qubit.pi_pulse.len</th>\n",
       "      <td>1</td>\n",
       "      <td>&lt;Anything&gt;</td>\n",
       "      <td>ns</td>\n",
       "    </tr>\n",
       "  </tbody>\n",
       "</table>\n",
       "</div>"
      ],
      "text/plain": [
       "                      value        vals       unit\n",
       "pm.qubit.pi_pulse.amp   126  <Anything>  DAC units\n",
       "pm.qubit.pi_pulse.len     1  <Anything>         ns"
      ]
     },
     "execution_count": 7,
     "metadata": {},
     "output_type": "execute_result"
    }
   ],
   "source": [
    "toDataFrame(station)"
   ]
  },
  {
   "cell_type": "code",
   "execution_count": null,
   "metadata": {
    "Collapsed": "false"
   },
   "outputs": [],
   "source": []
  }
 ],
 "metadata": {
  "kernelspec": {
   "display_name": "Python [conda env:qcodes]",
   "language": "python",
   "name": "conda-env-qcodes-py"
  },
  "language_info": {
   "codemirror_mode": {
    "name": "ipython",
    "version": 3
   },
   "file_extension": ".py",
   "mimetype": "text/x-python",
   "name": "python",
   "nbconvert_exporter": "python",
   "pygments_lexer": "ipython3",
   "version": "3.7.5"
  }
 },
 "nbformat": 4,
 "nbformat_minor": 4
}
